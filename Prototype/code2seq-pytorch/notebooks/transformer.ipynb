{
 "cells": [
  {
   "cell_type": "code",
   "execution_count": 14,
   "metadata": {},
   "outputs": [],
   "source": [
    "import torch\n",
    "from torch import nn\n",
    "import os\n",
    "import numpy as np"
   ]
  },
  {
   "cell_type": "code",
   "execution_count": 55,
   "metadata": {},
   "outputs": [],
   "source": [
    "class TransformerDecoder(nn.Module,):\n",
    "    def __init__(self, *, vocab_size, target_pad_idx, d_model, feedforward, nhead):\n",
    "        super(TransformerDecoder, self).__init__()\n",
    "        n_layers = 1\n",
    "        self.embedding = nn.Embedding(vocab_size, d_model)\n",
    "\n",
    "        decoder_layer = nn.TransformerDecoderLayer(d_model, nhead, dim_feedforward=feedforward)\n",
    "\n",
    "        self.decoder = nn.TransformerDecoder(decoder_layer, n_layers)\n",
    "\n",
    "\n",
    "    def forward(self, target, memory):\n",
    "        embedded = self.embedding(target)\n",
    "        print(embedded.shape)\n",
    "        decoded = self.decoder(embedded, memory)\n",
    "\n",
    "        return decoded"
   ]
  },
  {
   "cell_type": "code",
   "execution_count": 62,
   "metadata": {},
   "outputs": [
    {
     "name": "stdout",
     "output_type": "stream",
     "text": [
      "torch.Size([4, 7, 320])\n"
     ]
    },
    {
     "data": {
      "text/plain": [
       "torch.Size([4, 7, 320])"
      ]
     },
     "execution_count": 62,
     "metadata": {},
     "output_type": "execute_result"
    }
   ],
   "source": [
    "vocab_size = 22\n",
    "max_contexts = 7\n",
    "batch_size = 4\n",
    "embedding_size = 320\n",
    "\n",
    "d_model = 320\n",
    "feedforward = 512\n",
    "embedding_dim = 128\n",
    "nhead = 2\n",
    "# memory = np.random.randint(vocab_size, size=(batch_size, max_contexts, embedding_size))\n",
    "memory = torch.rand(max_contexts, batch_size , embedding_size)\n",
    "\n",
    "target = torch.tensor(\n",
    "    np.random.randint(vocab_size, size=(batch_size, max_contexts))\n",
    ")\n",
    "\n",
    "decoder = TransformerDecoder(vocab_size=vocab_size, d_model=d_model, feedforward=feedforward, nhead=nhead, target_pad_idx=0)\n",
    "decoder(target, memory).shape"
   ]
  },
  {
   "cell_type": "code",
   "execution_count": 63,
   "metadata": {},
   "outputs": [
    {
     "data": {
      "text/plain": [
       "torch.Size([4, 7])"
      ]
     },
     "execution_count": 63,
     "metadata": {},
     "output_type": "execute_result"
    }
   ],
   "source": [
    "target.shape"
   ]
  },
  {
   "cell_type": "code",
   "execution_count": 59,
   "metadata": {},
   "outputs": [],
   "source": [
    "a = torch.tensor([[\n",
    "    [0.3, 0.9, 0.3],\n",
    "    [0.2, 0.3, 0.8],\n",
    "    [0.2, 0.3, 0.1]\n",
    "],\n",
    "    [\n",
    "    [0.9, 0.9, 0.3],\n",
    "    [0.2, 0.3, 0.8],\n",
    "        [0.2, 0.3, 0.3]\n",
    "    ]\n",
    "])\n",
    "import torch.nn.functional as F"
   ]
  },
  {
   "cell_type": "code",
   "execution_count": 60,
   "metadata": {},
   "outputs": [],
   "source": [
    "a = F.softmax(a, dim=-1)\n",
    "# "
   ]
  },
  {
   "cell_type": "code",
   "execution_count": 61,
   "metadata": {},
   "outputs": [
    {
     "data": {
      "text/plain": [
       "tensor([[[0.2616, 0.4767, 0.2616],\n",
       "         [0.2546, 0.2814, 0.4640],\n",
       "         [0.3322, 0.3672, 0.3006]],\n",
       "\n",
       "        [[0.3923, 0.3923, 0.2153],\n",
       "         [0.2546, 0.2814, 0.4640],\n",
       "         [0.3115, 0.3443, 0.3443]]])"
      ]
     },
     "execution_count": 61,
     "metadata": {},
     "output_type": "execute_result"
    }
   ],
   "source": [
    "a"
   ]
  },
  {
   "cell_type": "code",
   "execution_count": 70,
   "metadata": {},
   "outputs": [],
   "source": [
    "vals, idx = a.topk(2, dim=-1)"
   ]
  },
  {
   "cell_type": "code",
   "execution_count": 71,
   "metadata": {},
   "outputs": [
    {
     "data": {
      "text/plain": [
       "tensor([[[1, 0],\n",
       "         [2, 1],\n",
       "         [1, 0]],\n",
       "\n",
       "        [[0, 1],\n",
       "         [2, 1],\n",
       "         [1, 2]]])"
      ]
     },
     "execution_count": 71,
     "metadata": {},
     "output_type": "execute_result"
    }
   ],
   "source": [
    "idx"
   ]
  },
  {
   "cell_type": "code",
   "execution_count": 75,
   "metadata": {},
   "outputs": [
    {
     "ename": "IndexError",
     "evalue": "index 2 is out of bounds for dimension 0 with size 2",
     "output_type": "error",
     "traceback": [
      "\u001b[0;31m---------------------------------------------------------------------------\u001b[0m",
      "\u001b[0;31mIndexError\u001b[0m                                Traceback (most recent call last)",
      "\u001b[0;32m<ipython-input-75-612eea82757d>\u001b[0m in \u001b[0;36m<module>\u001b[0;34m\u001b[0m\n\u001b[0;32m----> 1\u001b[0;31m \u001b[0mvals\u001b[0m\u001b[0;34m[\u001b[0m\u001b[0midx\u001b[0m\u001b[0;34m[\u001b[0m\u001b[0;36m0\u001b[0m\u001b[0;34m]\u001b[0m\u001b[0;34m]\u001b[0m\u001b[0;34m\u001b[0m\u001b[0;34m\u001b[0m\u001b[0m\n\u001b[0m",
      "\u001b[0;31mIndexError\u001b[0m: index 2 is out of bounds for dimension 0 with size 2"
     ]
    }
   ],
   "source": [
    "vals[idx[0]]"
   ]
  },
  {
   "cell_type": "code",
   "execution_count": 76,
   "metadata": {},
   "outputs": [
    {
     "data": {
      "text/plain": [
       "tensor([[1, 0],\n",
       "        [2, 1],\n",
       "        [1, 0]])"
      ]
     },
     "execution_count": 76,
     "metadata": {},
     "output_type": "execute_result"
    }
   ],
   "source": [
    "idx[0]"
   ]
  },
  {
   "cell_type": "code",
   "execution_count": null,
   "metadata": {},
   "outputs": [],
   "source": []
  }
 ],
 "metadata": {
  "kernelspec": {
   "display_name": "Python 3",
   "language": "python",
   "name": "python3"
  },
  "language_info": {
   "codemirror_mode": {
    "name": "ipython",
    "version": 3
   },
   "file_extension": ".py",
   "mimetype": "text/x-python",
   "name": "python",
   "nbconvert_exporter": "python",
   "pygments_lexer": "ipython3",
   "version": "3.7.6"
  }
 },
 "nbformat": 4,
 "nbformat_minor": 4
}
